{
  "nbformat": 4,
  "nbformat_minor": 0,
  "metadata": {
    "colab": {
      "provenance": [],
      "authorship_tag": "ABX9TyOsBgx5gVijZ/fgP/IhBsFo",
      "include_colab_link": true
    },
    "kernelspec": {
      "name": "python3",
      "display_name": "Python 3"
    },
    "language_info": {
      "name": "python"
    }
  },
  "cells": [
    {
      "cell_type": "markdown",
      "metadata": {
        "id": "view-in-github",
        "colab_type": "text"
      },
      "source": [
        "<a href=\"https://colab.research.google.com/github/shaanvi19/calculator_project/blob/main/Calculator_project.ipynb\" target=\"_parent\"><img src=\"https://colab.research.google.com/assets/colab-badge.svg\" alt=\"Open In Colab\"/></a>"
      ]
    },
    {
      "cell_type": "code",
      "source": [
        "#Revised code\n",
        "\n",
        "\n",
        "#Taking the input from the user\n",
        "a=int(input(\"enter the digit a:\"))\n",
        "b=int(input(\"enter the digit b:\"))\n",
        "\n",
        "#Giving him/her the choice to select which mathematical operation needs to be performed\n",
        "choice = int(input(\"Which operation you want to follow?\\n1. Addition \\n2. Subtraction\\n3. Division\\n4. Multiplication\\n\"))\n",
        "\n",
        "\n",
        "# Based on the input, selecting the operation\n",
        "if choice==1:   #the code will check if choice es equal to 1 if yes then it will continue with adding the two numbers.\n",
        "  print(\"the addition is\")\n",
        "  print (\"{}+{}\".format(a,b))\n",
        "  print(a+b)\n",
        "elif choice==2:\n",
        "  print(\"the subtracting is\")\n",
        "  print (\"{}-{}\".format(a,b))\n",
        "  print(a-b)\n",
        "elif choice==3:\n",
        "  print(\"the division is\")\n",
        "  print (\"{}/{}\".format(a,b))\n",
        "  print(a/b)\n",
        "elif choice==4:\n",
        "  print(\"the multiplication is\")\n",
        "  print (\"{}*{}\".format(a,b))\n",
        "  print(a*b)\n",
        "else:\n",
        "  print(\"wrong input\")\n",
        "\n",
        "\n"
      ],
      "metadata": {
        "colab": {
          "base_uri": "https://localhost:8080/"
        },
        "id": "MAlG9rbsXEuk",
        "outputId": "e2bb0e4f-6eaa-421c-8d06-ca25e347382a"
      },
      "execution_count": 5,
      "outputs": [
        {
          "output_type": "stream",
          "name": "stdout",
          "text": [
            "enter the digit a:8\n",
            "enter the digit b:2\n",
            "Which operation you want to follow?\n",
            "1. Addition \n",
            "2. Subtraction\n",
            "3. Division\n",
            "4. Multiplication\n",
            "7\n",
            "wrong input\n"
          ]
        }
      ]
    }
  ]
}